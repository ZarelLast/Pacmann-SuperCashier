{
  "nbformat": 4,
  "nbformat_minor": 0,
  "metadata": {
    "colab": {
      "provenance": []
    },
    "kernelspec": {
      "name": "python3",
      "display_name": "Python 3"
    },
    "language_info": {
      "name": "python"
    }
  },
  "cells": [
    {
      "cell_type": "code",
      "execution_count": null,
      "metadata": {
        "id": "1HEtyXoxk41h"
      },
      "outputs": [],
      "source": [
        "from pacmann_projek_i_modul import Transaction"
      ]
    },
    {
      "cell_type": "markdown",
      "source": [
        "# Dokumentasi"
      ],
      "metadata": {
        "id": "2VWq2aEHf7y1"
      }
    },
    {
      "cell_type": "markdown",
      "source": [
        "## add_items()"
      ],
      "metadata": {
        "id": "h1biIjqUps4k"
      }
    },
    {
      "cell_type": "code",
      "source": [
        "# inisialsisasi instance transaksi\n",
        "transaksi_1 = Transaction()\n",
        "\n",
        "# menambah item\n",
        "transaksi_1.add_items(['bakso', 5, 13_000])\n",
        "transaksi_1.add_items(['soto', 3, 8_000])\n",
        "\n",
        "# show keranjang\n",
        "transaksi_1.check_order()\n",
        "\n",
        "# membuat output sesuai test case\n",
        "# {'nama_item': [jumlah, harga]}\n",
        "transaksi_1.test_case_output(transaksi_1.keranjang)"
      ],
      "metadata": {
        "colab": {
          "base_uri": "https://localhost:8080/"
        },
        "id": "4tqrjH2Wcui6",
        "outputId": "5ba92e48-cea9-4b00-81c8-f903c90a2669"
      },
      "execution_count": null,
      "outputs": [
        {
          "output_type": "stream",
          "name": "stdout",
          "text": [
            "|   No. | Nama Barang   |   Jumlah Barang |   Harga Satuan |   Jumlah Harga |\n",
            "|-------|---------------|-----------------|----------------|----------------|\n",
            "|     1 | bakso         |               5 |          13000 |          65000 |\n",
            "\n",
            "Total harga yang harus dibayar adalah Rp.65,000\n",
            "Barang yang dibeli: \n",
            "{'bakso': [5, 13000]}\n",
            "|   No. | Nama Barang   |   Jumlah Barang |   Harga Satuan |   Jumlah Harga |\n",
            "|-------|---------------|-----------------|----------------|----------------|\n",
            "|     1 | bakso         |               5 |          13000 |          65000 |\n",
            "|     2 | soto          |               3 |           8000 |          24000 |\n",
            "\n",
            "Total harga yang harus dibayar adalah Rp.89,000\n",
            "Barang yang dibeli: \n",
            "{'bakso': [5, 13000], 'soto': [3, 8000]}\n",
            "|   No. | Nama Barang   |   Jumlah Barang |   Harga Satuan |   Jumlah Harga |\n",
            "|-------|---------------|-----------------|----------------|----------------|\n",
            "|     1 | bakso         |               5 |          13000 |          65000 |\n",
            "|     2 | soto          |               3 |           8000 |          24000 |\n",
            "\n",
            "Total harga yang harus dibayar adalah Rp.89,000\n",
            "Barang yang dibeli: \n",
            "{'bakso': [5, 13000], 'soto': [3, 8000]}\n"
          ]
        }
      ]
    },
    {
      "cell_type": "markdown",
      "source": [
        "## update_item_name() | update_item_price() | update_item_qty()"
      ],
      "metadata": {
        "id": "SeeU4xtKqfr1"
      }
    },
    {
      "cell_type": "code",
      "source": [
        "# inisialsisasi instance transaksi\n",
        "transaksi_2 = Transaction()\n",
        "\n",
        "# menambah item\n",
        "transaksi_2.add_items(['bakso', 5, 13_000])\n",
        "transaksi_2.add_items(['soto', 3, 8_000])\n",
        "transaksi_2.add_items(['', '3', '8_000'])\n",
        "\n",
        "# update nama item\n",
        "transaksi_2.update_item_name(id_item=3, update_nama='ayam')\n",
        "\n",
        "# update harga item\n",
        "transaksi_2.update_item_price(id_item=3, update_harga=3_000)\n",
        "\n",
        "# update jumlah item\n",
        "transaksi_2.update_item_qty(id_item=3, update_jumlah=10)\n",
        "\n",
        "# membuat output sesuai test case\n",
        "# {'nama_item': [jumlah, harga]}\n",
        "transaksi_2.test_case_output(transaksi_2.keranjang)"
      ],
      "metadata": {
        "colab": {
          "base_uri": "https://localhost:8080/"
        },
        "id": "k5WF5eEdqfYh",
        "outputId": "157be621-3fb2-42cf-ddf5-c28c7afba405"
      },
      "execution_count": null,
      "outputs": [
        {
          "output_type": "stream",
          "name": "stdout",
          "text": [
            "|   No. | Nama Barang   |   Jumlah Barang |   Harga Satuan |   Jumlah Harga |\n",
            "|-------|---------------|-----------------|----------------|----------------|\n",
            "|     1 | bakso         |               5 |          13000 |          65000 |\n",
            "\n",
            "Total harga yang harus dibayar adalah Rp.65,000\n",
            "Barang yang dibeli: \n",
            "{'bakso': [5, 13000]}\n",
            "|   No. | Nama Barang   |   Jumlah Barang |   Harga Satuan |   Jumlah Harga |\n",
            "|-------|---------------|-----------------|----------------|----------------|\n",
            "|     1 | bakso         |               5 |          13000 |          65000 |\n",
            "|     2 | soto          |               3 |           8000 |          24000 |\n",
            "\n",
            "Total harga yang harus dibayar adalah Rp.89,000\n",
            "Barang yang dibeli: \n",
            "{'bakso': [5, 13000], 'soto': [3, 8000]}\n",
            "|   No. | Nama Barang   |   Jumlah Barang |   Harga Satuan |   Jumlah Harga |\n",
            "|-------|---------------|-----------------|----------------|----------------|\n",
            "|     1 | bakso         |               5 |          13000 |          65000 |\n",
            "|     2 | soto          |               3 |           8000 |          24000 |\n",
            "|     3 |               |               3 |          8_000 |              0 |\n",
            "Barang ID - 3: Nama tidak sesuai\n",
            "\n",
            "Total harga yang harus dibayar adalah Rp.89,000\n",
            "Barang yang dibeli: \n",
            "{'bakso': [5, 13000], 'soto': [3, 8000], '': ['3', '8_000']}\n",
            "|   No. | Nama Barang   |   Jumlah Barang |   Harga Satuan |   Jumlah Harga |\n",
            "|-------|---------------|-----------------|----------------|----------------|\n",
            "|     1 | bakso         |               5 |          13000 |          65000 |\n",
            "|     2 | soto          |               3 |           8000 |          24000 |\n",
            "|     3 | ayam          |               3 |          8_000 |              0 |\n",
            "Barang ID - 3: Jumlah Barang bukan angka\n",
            "\n",
            "Total harga yang harus dibayar adalah Rp.89,000\n",
            "Barang yang dibeli: \n",
            "{'bakso': [5, 13000], 'soto': [3, 8000], 'ayam': ['3', '8_000']}\n",
            "|   No. | Nama Barang   |   Jumlah Barang |   Harga Satuan |                                                                                                                                                                                                                                                                                                                                                                                                                                                                                                                                                                                                                                                                                                                                                                                                                                                                                                                                                                                                                                                                                                                                                                                                                                                                                                                                                                                                                                                                                                                                                                                                                                                                                                                                                                                                                                                                                                                                                                                                                                                                                                                                                                                                                                                                                                                                                                                                                                                                                                                                                                                                                                                                                                                                                                                                                                                                                                                                                                                                                                                                                                             Jumlah Harga |\n",
            "|-------|---------------|-----------------|----------------|--------------------------------------------------------------------------------------------------------------------------------------------------------------------------------------------------------------------------------------------------------------------------------------------------------------------------------------------------------------------------------------------------------------------------------------------------------------------------------------------------------------------------------------------------------------------------------------------------------------------------------------------------------------------------------------------------------------------------------------------------------------------------------------------------------------------------------------------------------------------------------------------------------------------------------------------------------------------------------------------------------------------------------------------------------------------------------------------------------------------------------------------------------------------------------------------------------------------------------------------------------------------------------------------------------------------------------------------------------------------------------------------------------------------------------------------------------------------------------------------------------------------------------------------------------------------------------------------------------------------------------------------------------------------------------------------------------------------------------------------------------------------------------------------------------------------------------------------------------------------------------------------------------------------------------------------------------------------------------------------------------------------------------------------------------------------------------------------------------------------------------------------------------------------------------------------------------------------------------------------------------------------------------------------------------------------------------------------------------------------------------------------------------------------------------------------------------------------------------------------------------------------------------------------------------------------------------------------------------------------------------------------------------------------------------------------------------------------------------------------------------------------------------------------------------------------------------------------------------------------------------------------------------------------------------------------------------------------------------------------------------------------------------------------------------------------------------------------------------------------------|\n",
            "|     1 | bakso         |               5 |          13000 |                                                                                                                                                                                                                                                                                                                                                                                                                                                                                                                                                                                                                                                                                                                                                                                                                                                                                                                                                                                                                                                                                                                                                                                                                                                                                                                                                                                                                                                                                                                                                                                                                                                                                                                                                                                                                                                                                                                                                                                                                                                                                                                                                                                                                                                                                                                                                                                                                                                                                                                                                                                                                                                                                                                                                                                                                                                                                                                                                                                                                                                                                                                    65000 |\n",
            "|     2 | soto          |               3 |           8000 |                                                                                                                                                                                                                                                                                                                                                                                                                                                                                                                                                                                                                                                                                                                                                                                                                                                                                                                                                                                                                                                                                                                                                                                                                                                                                                                                                                                                                                                                                                                                                                                                                                                                                                                                                                                                                                                                                                                                                                                                                                                                                                                                                                                                                                                                                                                                                                                                                                                                                                                                                                                                                                                                                                                                                                                                                                                                                                                                                                                                                                                                                                                    24000 |\n",
            "|     3 | ayam          |               3 |           3000 | 333333333333333333333333333333333333333333333333333333333333333333333333333333333333333333333333333333333333333333333333333333333333333333333333333333333333333333333333333333333333333333333333333333333333333333333333333333333333333333333333333333333333333333333333333333333333333333333333333333333333333333333333333333333333333333333333333333333333333333333333333333333333333333333333333333333333333333333333333333333333333333333333333333333333333333333333333333333333333333333333333333333333333333333333333333333333333333333333333333333333333333333333333333333333333333333333333333333333333333333333333333333333333333333333333333333333333333333333333333333333333333333333333333333333333333333333333333333333333333333333333333333333333333333333333333333333333333333333333333333333333333333333333333333333333333333333333333333333333333333333333333333333333333333333333333333333333333333333333333333333333333333333333333333333333333333333333333333333333333333333333333333333333333333333333333333333333333333333333333333333333333333333333333333333333333333333333333333333333333333333333333333333333333333333333333333333333333333333333333333333333333333333333333333333333333333333333333333333333333333333333333333333333333333333333333333333333333333333333333333333333333333333333333333333333333333333333333333333333333333333333333333333333333333333333333333333333333333333333333333333333333333333333333333333333333333333333333333333333333333333333333333333333333333333333333333333333333333333333333333333333333333333333333333333333333333333333333333333333333333333333333333333333333333333333333333333333333333333333333333333333333333333333333333333333333333333333333333333333333333333333333333333333333333333333333333333333333333333333333333333333333333333333333333333333333333333333333333333333333333333333333333333333333333333333333333333333333333333333333333333333333333333333333333333333333333333333333333333333333333333333333333333333333333333333333333333333333333333333333333333333333333333333333333333333333333333333333333333333333333333333333333333333333333333333333333333333333333333333333333333333333333333333333333333333333333333333333333333333333333333333333333333333333333333333333333333333333333333333333333333333333333333333333333333333333333333333333333333333333333333333333333333333333333333333333333333333333333333333333333333333333333333333333333333333333333333333333333333333333333333333333333333333333333333333333333333333333333333333333333333333333333333333333333333333333333333333333333333333333333333333333333333333333333333333333333333333333333333333333333333333333333333333333333333333333333333333333333333333333333333333333333333333333333333333333333333333333333333333333333333333333333333333333333333333333333333333333333333333333333333333333333333333333333333333333333333333333333333333333333333333333333333333333333333333333333333333333333333333333333333333333333333333333333333333333333333333333333333333333333333333333333333333333333333333333333333333333333333333333333333 |\n",
            "Barang ID - 3: Jumlah Barang bukan angka\n",
            "PESANAN TIDAK SESUAI, Silahkan di cek kembali\n",
            "Barang yang dibeli: \n",
            "{'bakso': [5, 13000], 'soto': [3, 8000], 'ayam': ['3', 3000]}\n",
            "|   No. | Nama Barang   |   Jumlah Barang |   Harga Satuan |   Jumlah Harga |\n",
            "|-------|---------------|-----------------|----------------|----------------|\n",
            "|     1 | bakso         |               5 |          13000 |          65000 |\n",
            "|     2 | soto          |               3 |           8000 |          24000 |\n",
            "|     3 | ayam          |              10 |           3000 |          30000 |\n",
            "\n",
            "Total harga yang harus dibayar adalah Rp.119,000\n",
            "Barang yang dibeli: \n",
            "{'bakso': [5, 13000], 'soto': [3, 8000], 'ayam': [10, 3000]}\n",
            "Barang yang dibeli: \n",
            "{'bakso': [5, 13000], 'soto': [3, 8000], 'ayam': [10, 3000]}\n"
          ]
        }
      ]
    },
    {
      "cell_type": "markdown",
      "source": [
        "## delete_item()"
      ],
      "metadata": {
        "id": "2nLCedyvp2fV"
      }
    },
    {
      "cell_type": "code",
      "source": [
        "# inisialsisasi instance transaksi\n",
        "transaksi_3 = Transaction()\n",
        "\n",
        "# menambah item\n",
        "transaksi_3.add_items(['bakso', 5, 13_000])\n",
        "transaksi_3.add_items(['soto', 3, 8_000])\n",
        "transaksi_3.add_items(['', '3', '8_000'])\n",
        "\n",
        "# menghapus item\n",
        "transaksi_3.delete_item(3)\n",
        "\n",
        "# membuat output sesuai test case\n",
        "# {'nama_item': [jumlah, harga]}\n",
        "transaksi_3.test_case_output(transaksi_3.keranjang)"
      ],
      "metadata": {
        "colab": {
          "base_uri": "https://localhost:8080/"
        },
        "id": "nO0FIwC0p1eu",
        "outputId": "599dcdeb-b3c2-4415-e6a5-4b056f4004ee"
      },
      "execution_count": null,
      "outputs": [
        {
          "output_type": "stream",
          "name": "stdout",
          "text": [
            "|   No. | Nama Barang   |   Jumlah Barang |   Harga Satuan |   Jumlah Harga |\n",
            "|-------|---------------|-----------------|----------------|----------------|\n",
            "|     1 | bakso         |               5 |          13000 |          65000 |\n",
            "\n",
            "Total harga yang harus dibayar adalah Rp.65,000\n",
            "Barang yang dibeli: \n",
            "{'bakso': [5, 13000]}\n",
            "|   No. | Nama Barang   |   Jumlah Barang |   Harga Satuan |   Jumlah Harga |\n",
            "|-------|---------------|-----------------|----------------|----------------|\n",
            "|     1 | bakso         |               5 |          13000 |          65000 |\n",
            "|     2 | soto          |               3 |           8000 |          24000 |\n",
            "\n",
            "Total harga yang harus dibayar adalah Rp.89,000\n",
            "Barang yang dibeli: \n",
            "{'bakso': [5, 13000], 'soto': [3, 8000]}\n",
            "|   No. | Nama Barang   |   Jumlah Barang |   Harga Satuan |   Jumlah Harga |\n",
            "|-------|---------------|-----------------|----------------|----------------|\n",
            "|     1 | bakso         |               5 |          13000 |          65000 |\n",
            "|     2 | soto          |               3 |           8000 |          24000 |\n",
            "|     3 |               |               3 |          8_000 |              0 |\n",
            "Barang ID - 3: Nama tidak sesuai\n",
            "\n",
            "Total harga yang harus dibayar adalah Rp.89,000\n",
            "Barang yang dibeli: \n",
            "{'bakso': [5, 13000], 'soto': [3, 8000], '': ['3', '8_000']}\n",
            "|   No. | Nama Barang   |   Jumlah Barang |   Harga Satuan |   Jumlah Harga |\n",
            "|-------|---------------|-----------------|----------------|----------------|\n",
            "|     1 | bakso         |               5 |          13000 |          65000 |\n",
            "|     2 | soto          |               3 |           8000 |          24000 |\n",
            "\n",
            "Total harga yang harus dibayar adalah Rp.89,000\n",
            "Barang yang dibeli: \n",
            "{'bakso': [5, 13000], 'soto': [3, 8000]}\n",
            "Barang yang dibeli: \n",
            "{'bakso': [5, 13000], 'soto': [3, 8000]}\n"
          ]
        }
      ]
    },
    {
      "cell_type": "markdown",
      "source": [
        "## check_order()"
      ],
      "metadata": {
        "id": "pbdjaFDPxg7U"
      }
    },
    {
      "cell_type": "code",
      "source": [
        "# inisialsisasi instance transaksi\n",
        "transaksi_4 = Transaction()\n",
        "\n",
        "# menambah item\n",
        "transaksi_4.add_items(['bakso', 5, 13_000])\n",
        "transaksi_4.add_items(['soto', 3, 8_000])\n",
        "\n",
        "# menghapus item\n",
        "print(\"Dibawah ini output check_order\")\n",
        "transaksi_4.check_order()\n",
        "\n",
        "# membuat output sesuai test case\n",
        "# {'nama_item': [jumlah, harga]}\n",
        "transaksi_4.test_case_output(transaksi_4.keranjang)"
      ],
      "metadata": {
        "colab": {
          "base_uri": "https://localhost:8080/"
        },
        "id": "n8Og5w5kxsKG",
        "outputId": "e103ca13-a5b9-4d77-e7bf-1196f7cd818b"
      },
      "execution_count": null,
      "outputs": [
        {
          "output_type": "stream",
          "name": "stdout",
          "text": [
            "|   No. | Nama Barang   |   Jumlah Barang |   Harga Satuan |   Jumlah Harga |\n",
            "|-------|---------------|-----------------|----------------|----------------|\n",
            "|     1 | bakso         |               5 |          13000 |          65000 |\n",
            "\n",
            "Total harga yang harus dibayar adalah Rp.65,000\n",
            "Barang yang dibeli: \n",
            "{'bakso': [5, 13000]}\n",
            "|   No. | Nama Barang   |   Jumlah Barang |   Harga Satuan |   Jumlah Harga |\n",
            "|-------|---------------|-----------------|----------------|----------------|\n",
            "|     1 | bakso         |               5 |          13000 |          65000 |\n",
            "|     2 | soto          |               3 |           8000 |          24000 |\n",
            "\n",
            "Total harga yang harus dibayar adalah Rp.89,000\n",
            "Barang yang dibeli: \n",
            "{'bakso': [5, 13000], 'soto': [3, 8000]}\n",
            "Dibawah ini output check_order\n",
            "|   No. | Nama Barang   |   Jumlah Barang |   Harga Satuan |   Jumlah Harga |\n",
            "|-------|---------------|-----------------|----------------|----------------|\n",
            "|     1 | bakso         |               5 |          13000 |          65000 |\n",
            "|     2 | soto          |               3 |           8000 |          24000 |\n",
            "\n",
            "Total harga yang harus dibayar adalah Rp.89,000\n",
            "Barang yang dibeli: \n",
            "{'bakso': [5, 13000], 'soto': [3, 8000]}\n"
          ]
        }
      ]
    },
    {
      "cell_type": "code",
      "source": [
        "# inisialsisasi instance transaksi\n",
        "transaksi_5 = Transaction()\n",
        "\n",
        "# menambah item\n",
        "transaksi_5.add_items(['bakso', 5, 13_000])\n",
        "transaksi_5.add_items(['soto', '3', 8_000])\n",
        "\n",
        "# menghapus item\n",
        "print(\"Dibawah ini output check_order\")\n",
        "transaksi_5.check_order()\n",
        "\n",
        "# membuat output sesuai test case\n",
        "# {'nama_item': [jumlah, harga]}\n",
        "transaksi_5.test_case_output(transaksi_5.keranjang)"
      ],
      "metadata": {
        "colab": {
          "base_uri": "https://localhost:8080/"
        },
        "id": "DONB33FfyTDV",
        "outputId": "46cce5a7-f4ea-441f-e474-3454bac540a3"
      },
      "execution_count": null,
      "outputs": [
        {
          "output_type": "stream",
          "name": "stdout",
          "text": [
            "|   No. | Nama Barang   |   Jumlah Barang |   Harga Satuan |   Jumlah Harga |\n",
            "|-------|---------------|-----------------|----------------|----------------|\n",
            "|     1 | bakso         |               5 |          13000 |          65000 |\n",
            "\n",
            "Total harga yang harus dibayar adalah Rp.65,000\n",
            "Barang yang dibeli: \n",
            "{'bakso': [5, 13000]}\n",
            "|   No. | Nama Barang   |   Jumlah Barang |   Harga Satuan | Jumlah Harga                                                                                                                                                                                                                                                                                                                                                                                                                                                                                                                                                                                                                                                                                                                                                                                                                                                                                                                                                                                                                                                                                                                                                                                                                                                                                                                                                                                                                                                                                                                                                                                                                                                                                                                                                                                                                                                                                                                                                                                                                                                                                                                                                                                                                                                                                                                                                                                                                                                                                                                                                                                                                                                                                                                                                                                                                                                                                                                                                                                                                                                                                                                                                                                                                                                                                                                                                                                                                                                                                                                                                                                                                                                                                                                                                                                                                                                                                                                                                                                                                                                                                                                                                                                                                                                                                                                                                                                                                                                                                                                                                                                                                                                                                                                                                                                                                                                                                                                                                                                                                                                                                                                                                                                                                                                                                                                                                                                                                                                                                                                                                                                                                                                                                                                                                                                                                                                                                                                                                                                                                                                                                                                                                                                                                                                                                                                                                                                                                                                                                                                                                                                                                                                                                                                                                                                                                                                                                                                                                                                                                                                                                                                                                                                                                                                                                                                                                                                                                                                                                                                                                                                                                                                                                                                                                                                                                                                                                                                                                                                                                                                                                                                                                                                                                                                                                                                     |\n",
            "|-------|---------------|-----------------|----------------|----------------------------------------------------------------------------------------------------------------------------------------------------------------------------------------------------------------------------------------------------------------------------------------------------------------------------------------------------------------------------------------------------------------------------------------------------------------------------------------------------------------------------------------------------------------------------------------------------------------------------------------------------------------------------------------------------------------------------------------------------------------------------------------------------------------------------------------------------------------------------------------------------------------------------------------------------------------------------------------------------------------------------------------------------------------------------------------------------------------------------------------------------------------------------------------------------------------------------------------------------------------------------------------------------------------------------------------------------------------------------------------------------------------------------------------------------------------------------------------------------------------------------------------------------------------------------------------------------------------------------------------------------------------------------------------------------------------------------------------------------------------------------------------------------------------------------------------------------------------------------------------------------------------------------------------------------------------------------------------------------------------------------------------------------------------------------------------------------------------------------------------------------------------------------------------------------------------------------------------------------------------------------------------------------------------------------------------------------------------------------------------------------------------------------------------------------------------------------------------------------------------------------------------------------------------------------------------------------------------------------------------------------------------------------------------------------------------------------------------------------------------------------------------------------------------------------------------------------------------------------------------------------------------------------------------------------------------------------------------------------------------------------------------------------------------------------------------------------------------------------------------------------------------------------------------------------------------------------------------------------------------------------------------------------------------------------------------------------------------------------------------------------------------------------------------------------------------------------------------------------------------------------------------------------------------------------------------------------------------------------------------------------------------------------------------------------------------------------------------------------------------------------------------------------------------------------------------------------------------------------------------------------------------------------------------------------------------------------------------------------------------------------------------------------------------------------------------------------------------------------------------------------------------------------------------------------------------------------------------------------------------------------------------------------------------------------------------------------------------------------------------------------------------------------------------------------------------------------------------------------------------------------------------------------------------------------------------------------------------------------------------------------------------------------------------------------------------------------------------------------------------------------------------------------------------------------------------------------------------------------------------------------------------------------------------------------------------------------------------------------------------------------------------------------------------------------------------------------------------------------------------------------------------------------------------------------------------------------------------------------------------------------------------------------------------------------------------------------------------------------------------------------------------------------------------------------------------------------------------------------------------------------------------------------------------------------------------------------------------------------------------------------------------------------------------------------------------------------------------------------------------------------------------------------------------------------------------------------------------------------------------------------------------------------------------------------------------------------------------------------------------------------------------------------------------------------------------------------------------------------------------------------------------------------------------------------------------------------------------------------------------------------------------------------------------------------------------------------------------------------------------------------------------------------------------------------------------------------------------------------------------------------------------------------------------------------------------------------------------------------------------------------------------------------------------------------------------------------------------------------------------------------------------------------------------------------------------------------------------------------------------------------------------------------------------------------------------------------------------------------------------------------------------------------------------------------------------------------------------------------------------------------------------------------------------------------------------------------------------------------------------------------------------------------------------------------------------------------------------------------------------------------------------------------------------------------------------------------------------------------------------------------------------------------------------------------------------------------------------------------------------------------------------------------------------------------------------------------------------------------------------------------------------------------------------------------------------------------------------------------------------------------------------------------------------------------------------------------------------------------------------------------------------------------------------------------------------------------------------------------------------------------------------------------------------------------------------------------------------------------------------------------------------------------------------------------------|\n",
            "|     1 | bakso         |               5 |          13000 | 65000                                                                                                                                                                                                                                                                                                                                                                                                                                                                                                                                                                                                                                                                                                                                                                                                                                                                                                                                                                                                                                                                                                                                                                                                                                                                                                                                                                                                                                                                                                                                                                                                                                                                                                                                                                                                                                                                                                                                                                                                                                                                                                                                                                                                                                                                                                                                                                                                                                                                                                                                                                                                                                                                                                                                                                                                                                                                                                                                                                                                                                                                                                                                                                                                                                                                                                                                                                                                                                                                                                                                                                                                                                                                                                                                                                                                                                                                                                                                                                                                                                                                                                                                                                                                                                                                                                                                                                                                                                                                                                                                                                                                                                                                                                                                                                                                                                                                                                                                                                                                                                                                                                                                                                                                                                                                                                                                                                                                                                                                                                                                                                                                                                                                                                                                                                                                                                                                                                                                                                                                                                                                                                                                                                                                                                                                                                                                                                                                                                                                                                                                                                                                                                                                                                                                                                                                                                                                                                                                                                                                                                                                                                                                                                                                                                                                                                                                                                                                                                                                                                                                                                                                                                                                                                                                                                                                                                                                                                                                                                                                                                                                                                                                                                                                                                                                                                                            |\n",
            "|     2 | soto          |               3 |           8000 | 33333333333333333333333333333333333333333333333333333333333333333333333333333333333333333333333333333333333333333333333333333333333333333333333333333333333333333333333333333333333333333333333333333333333333333333333333333333333333333333333333333333333333333333333333333333333333333333333333333333333333333333333333333333333333333333333333333333333333333333333333333333333333333333333333333333333333333333333333333333333333333333333333333333333333333333333333333333333333333333333333333333333333333333333333333333333333333333333333333333333333333333333333333333333333333333333333333333333333333333333333333333333333333333333333333333333333333333333333333333333333333333333333333333333333333333333333333333333333333333333333333333333333333333333333333333333333333333333333333333333333333333333333333333333333333333333333333333333333333333333333333333333333333333333333333333333333333333333333333333333333333333333333333333333333333333333333333333333333333333333333333333333333333333333333333333333333333333333333333333333333333333333333333333333333333333333333333333333333333333333333333333333333333333333333333333333333333333333333333333333333333333333333333333333333333333333333333333333333333333333333333333333333333333333333333333333333333333333333333333333333333333333333333333333333333333333333333333333333333333333333333333333333333333333333333333333333333333333333333333333333333333333333333333333333333333333333333333333333333333333333333333333333333333333333333333333333333333333333333333333333333333333333333333333333333333333333333333333333333333333333333333333333333333333333333333333333333333333333333333333333333333333333333333333333333333333333333333333333333333333333333333333333333333333333333333333333333333333333333333333333333333333333333333333333333333333333333333333333333333333333333333333333333333333333333333333333333333333333333333333333333333333333333333333333333333333333333333333333333333333333333333333333333333333333333333333333333333333333333333333333333333333333333333333333333333333333333333333333333333333333333333333333333333333333333333333333333333333333333333333333333333333333333333333333333333333333333333333333333333333333333333333333333333333333333333333333333333333333333333333333333333333333333333333333333333333333333333333333333333333333333333333333333333333333333333333333333333333333333333333333333333333333333333333333333333333333333333333333333333333333333333333333333333333333333333333333333333333333333333333333333333333333333333333333333333333333333333333333333333333333333333333333333333333333333333333333333333333333333333333333333333333333333333333333333333333333333333333333333333333333333333333333333333333333333333333333333333333333333333333333333333333333333333333333333333333333333333333333333333333333333333333333333333333333333333333333333333333333333333333333333333333333333333333333333333333333333333333333333333333333333333333333333333333333333333333333333333333333333333333333333333333333333333333333333333333333333333333333333333333333333333333333333333333333333333333333333333333333333333333333333333333333333333333333333333333333333333333333333333333333333333333333333333333333333333333333333333333333333333333333333333333333333333333333333333333333333333333333333333333333333333333333333333333333333333333333333333333333333333333333333333333333333333333333333333333333333333333333333333333333333333333333333333333333333333333333333333333333333333333333333333333333333333333333333333333333333333333333333333333333333333333333333333333333333333333333333333333333333333333333333333333333333333333333333333333333333333333333333333333333333333333333333333333333333333333333333333333333333333333333333333333333333333333333333333333333333333333333333333333333333333333333333333333333333333333333333333333333333333333333333333333333333333333333333333333333333333333333333333333333333333333333333333333333333333333333333333333333333333333333333333333333333333333333333333333333333333333333333333333333333333333333333333333333333333333333333333333333333333333333333333333333333333333333333333333333333333333333333333333333333333333333333333333333333333333333333333333333333333333333333333333333333333333333333333333333333333333333333333333333333333333333333333333333333333333333333333333333333333333333333333333333333333333333333333333333333333333333333333333333333333333333333333333333333333333333333333333333333333333333333333333333333333333333333333333333333333333333333333333333333333333333333333333333333333333333333333333333333333333333333333333333333333333333333333333333333333333333333333333333333333333333333333333333333333333333333333333333333333333333333333333333333333333333333333333333333333333333333333333333333333333333333333333333333333333333333333333333333333333333333333333333333333333333333333333333333333333333333333333333333333333333333333333333333333333333333333333333333333333333333333333333333333333333333333333333333333333333333333333333333333333333333333333333333333333333333333333333333333333333333333333333333333333333333333333333333333333333333333333333333333333333333333333333333333333333333333333333333333333333333333333333333333333333333333333333333333333333333333333333333333333333333333333333333333333333333333333333333333333333333333333333333333333333333333333333333333333333333333333333333333333333333333333333333333333333333333333333333333333333333333333333333333333333333333333333333333333333333333333333333333333333333333333333333333333333333333333333333333333333333333333333333333333333333333333333333333333333333333333333333333333333333333333333333333333333333333333333333333333333333333333333333333333333333333333333333333333333333333333333333333333333333333333333333333333333333333333333333333333333333333333333333333333333333333333333333333333333333333333333333333333333333333333333333333333333333333333333333333333333333333333333333333333333333333333333333333333333333333333333333333333333333333333333333333333333333333333333333333333333333333333333333333333333333333333333333333333333333333333333333333333333333333333333333333333333333333333333333333333333333333333333333333333333333333333333333333333333333333333333333333333333333333333333333333333333333333333333333333333333333333333333333333333333333333333333333333333333333333333333333333333333333333333333333333333333333333333333333333333333333333333333333333333333333333333333333333333333333333333333333333333333333333333333333333333333333333333333333333333333333333333333333333333333333333333333333333333333333333333333333333333333333333333333333333333333333333333333333333333333333333333333333333333333333333333333333333333333333333333333333333333333333333333333333333333333333333333333333333333333333333333333333333333333333333333333333333333333333333333333333333333333333333333333333333333333333333333333333333333333333333333333333333333333333333333333333333333333333333333333333333333333333333333333333333333333333333333333333333333333333333333333333333333333333333333333333333333333333333333333333333333333333333333333333333333333333333333333333333333333333333333333333333333333333333333333333333333333333333333333333333333333333333333333333333333333333333333333333333333333333333333333333333333333333333333333333333333333333333333333333333333333333333333333333333333333333333333333333333333333333333333333333333333333333333333333333333333333333333333333333333333333333333333333333333333333333333333333333333333333333333333333333333333333333333333333333333333333333333333333333333333333333333333333333333333333333333333333333333333333333333333333333333333333333333333333333333333333333333333333333333333333333333333333333333333333333333333333333333333333333333333333333333333333333333333333333333333333333333333333333333333333333333333333333333333333333333333333333333333333333333333333333333333333333333333333333333333333333333333333333333333333333333333333333333333333333333333333333333333333333333333333333333333333333333333333333333333333333333333333333333333333333333333333333333333333333333333333333333333333333333333333333333 |\n",
            "Barang ID - 2: Jumlah Barang bukan angka\n",
            "PESANAN TIDAK SESUAI, Silahkan di cek kembali\n",
            "Barang yang dibeli: \n",
            "{'bakso': [5, 13000], 'soto': ['3', 8000]}\n",
            "Dibawah ini output check_order\n",
            "|   No. | Nama Barang   |   Jumlah Barang |   Harga Satuan | Jumlah Harga                                                                                                                                                                                                                                                                                                                                                                                                                                                                                                                                                                                                                                                                                                                                                                                                                                                                                                                                                                                                                                                                                                                                                                                                                                                                                                                                                                                                                                                                                                                                                                                                                                                                                                                                                                                                                                                                                                                                                                                                                                                                                                                                                                                                                                                                                                                                                                                                                                                                                                                                                                                                                                                                                                                                                                                                                                                                                                                                                                                                                                                                                                                                                                                                                                                                                                                                                                                                                                                                                                                                                                                                                                                                                                                                                                                                                                                                                                                                                                                                                                                                                                                                                                                                                                                                                                                                                                                                                                                                                                                                                                                                                                                                                                                                                                                                                                                                                                                                                                                                                                                                                                                                                                                                                                                                                                                                                                                                                                                                                                                                                                                                                                                                                                                                                                                                                                                                                                                                                                                                                                                                                                                                                                                                                                                                                                                                                                                                                                                                                                                                                                                                                                                                                                                                                                                                                                                                                                                                                                                                                                                                                                                                                                                                                                                                                                                                                                                                                                                                                                                                                                                                                                                                                                                                                                                                                                                                                                                                                                                                                                                                                                                                                                                                                                                                                                                     |\n",
            "|-------|---------------|-----------------|----------------|----------------------------------------------------------------------------------------------------------------------------------------------------------------------------------------------------------------------------------------------------------------------------------------------------------------------------------------------------------------------------------------------------------------------------------------------------------------------------------------------------------------------------------------------------------------------------------------------------------------------------------------------------------------------------------------------------------------------------------------------------------------------------------------------------------------------------------------------------------------------------------------------------------------------------------------------------------------------------------------------------------------------------------------------------------------------------------------------------------------------------------------------------------------------------------------------------------------------------------------------------------------------------------------------------------------------------------------------------------------------------------------------------------------------------------------------------------------------------------------------------------------------------------------------------------------------------------------------------------------------------------------------------------------------------------------------------------------------------------------------------------------------------------------------------------------------------------------------------------------------------------------------------------------------------------------------------------------------------------------------------------------------------------------------------------------------------------------------------------------------------------------------------------------------------------------------------------------------------------------------------------------------------------------------------------------------------------------------------------------------------------------------------------------------------------------------------------------------------------------------------------------------------------------------------------------------------------------------------------------------------------------------------------------------------------------------------------------------------------------------------------------------------------------------------------------------------------------------------------------------------------------------------------------------------------------------------------------------------------------------------------------------------------------------------------------------------------------------------------------------------------------------------------------------------------------------------------------------------------------------------------------------------------------------------------------------------------------------------------------------------------------------------------------------------------------------------------------------------------------------------------------------------------------------------------------------------------------------------------------------------------------------------------------------------------------------------------------------------------------------------------------------------------------------------------------------------------------------------------------------------------------------------------------------------------------------------------------------------------------------------------------------------------------------------------------------------------------------------------------------------------------------------------------------------------------------------------------------------------------------------------------------------------------------------------------------------------------------------------------------------------------------------------------------------------------------------------------------------------------------------------------------------------------------------------------------------------------------------------------------------------------------------------------------------------------------------------------------------------------------------------------------------------------------------------------------------------------------------------------------------------------------------------------------------------------------------------------------------------------------------------------------------------------------------------------------------------------------------------------------------------------------------------------------------------------------------------------------------------------------------------------------------------------------------------------------------------------------------------------------------------------------------------------------------------------------------------------------------------------------------------------------------------------------------------------------------------------------------------------------------------------------------------------------------------------------------------------------------------------------------------------------------------------------------------------------------------------------------------------------------------------------------------------------------------------------------------------------------------------------------------------------------------------------------------------------------------------------------------------------------------------------------------------------------------------------------------------------------------------------------------------------------------------------------------------------------------------------------------------------------------------------------------------------------------------------------------------------------------------------------------------------------------------------------------------------------------------------------------------------------------------------------------------------------------------------------------------------------------------------------------------------------------------------------------------------------------------------------------------------------------------------------------------------------------------------------------------------------------------------------------------------------------------------------------------------------------------------------------------------------------------------------------------------------------------------------------------------------------------------------------------------------------------------------------------------------------------------------------------------------------------------------------------------------------------------------------------------------------------------------------------------------------------------------------------------------------------------------------------------------------------------------------------------------------------------------------------------------------------------------------------------------------------------------------------------------------------------------------------------------------------------------------------------------------------------------------------------------------------------------------------------------------------------------------------------------------------------------------------------------------------------------------------------------------------------------------------------------------------------------------------------------------------------------------------------------------|\n",
            "|     1 | bakso         |               5 |          13000 | 65000                                                                                                                                                                                                                                                                                                                                                                                                                                                                                                                                                                                                                                                                                                                                                                                                                                                                                                                                                                                                                                                                                                                                                                                                                                                                                                                                                                                                                                                                                                                                                                                                                                                                                                                                                                                                                                                                                                                                                                                                                                                                                                                                                                                                                                                                                                                                                                                                                                                                                                                                                                                                                                                                                                                                                                                                                                                                                                                                                                                                                                                                                                                                                                                                                                                                                                                                                                                                                                                                                                                                                                                                                                                                                                                                                                                                                                                                                                                                                                                                                                                                                                                                                                                                                                                                                                                                                                                                                                                                                                                                                                                                                                                                                                                                                                                                                                                                                                                                                                                                                                                                                                                                                                                                                                                                                                                                                                                                                                                                                                                                                                                                                                                                                                                                                                                                                                                                                                                                                                                                                                                                                                                                                                                                                                                                                                                                                                                                                                                                                                                                                                                                                                                                                                                                                                                                                                                                                                                                                                                                                                                                                                                                                                                                                                                                                                                                                                                                                                                                                                                                                                                                                                                                                                                                                                                                                                                                                                                                                                                                                                                                                                                                                                                                                                                                                                                            |\n",
            "|     2 | soto          |               3 |           8000 | 33333333333333333333333333333333333333333333333333333333333333333333333333333333333333333333333333333333333333333333333333333333333333333333333333333333333333333333333333333333333333333333333333333333333333333333333333333333333333333333333333333333333333333333333333333333333333333333333333333333333333333333333333333333333333333333333333333333333333333333333333333333333333333333333333333333333333333333333333333333333333333333333333333333333333333333333333333333333333333333333333333333333333333333333333333333333333333333333333333333333333333333333333333333333333333333333333333333333333333333333333333333333333333333333333333333333333333333333333333333333333333333333333333333333333333333333333333333333333333333333333333333333333333333333333333333333333333333333333333333333333333333333333333333333333333333333333333333333333333333333333333333333333333333333333333333333333333333333333333333333333333333333333333333333333333333333333333333333333333333333333333333333333333333333333333333333333333333333333333333333333333333333333333333333333333333333333333333333333333333333333333333333333333333333333333333333333333333333333333333333333333333333333333333333333333333333333333333333333333333333333333333333333333333333333333333333333333333333333333333333333333333333333333333333333333333333333333333333333333333333333333333333333333333333333333333333333333333333333333333333333333333333333333333333333333333333333333333333333333333333333333333333333333333333333333333333333333333333333333333333333333333333333333333333333333333333333333333333333333333333333333333333333333333333333333333333333333333333333333333333333333333333333333333333333333333333333333333333333333333333333333333333333333333333333333333333333333333333333333333333333333333333333333333333333333333333333333333333333333333333333333333333333333333333333333333333333333333333333333333333333333333333333333333333333333333333333333333333333333333333333333333333333333333333333333333333333333333333333333333333333333333333333333333333333333333333333333333333333333333333333333333333333333333333333333333333333333333333333333333333333333333333333333333333333333333333333333333333333333333333333333333333333333333333333333333333333333333333333333333333333333333333333333333333333333333333333333333333333333333333333333333333333333333333333333333333333333333333333333333333333333333333333333333333333333333333333333333333333333333333333333333333333333333333333333333333333333333333333333333333333333333333333333333333333333333333333333333333333333333333333333333333333333333333333333333333333333333333333333333333333333333333333333333333333333333333333333333333333333333333333333333333333333333333333333333333333333333333333333333333333333333333333333333333333333333333333333333333333333333333333333333333333333333333333333333333333333333333333333333333333333333333333333333333333333333333333333333333333333333333333333333333333333333333333333333333333333333333333333333333333333333333333333333333333333333333333333333333333333333333333333333333333333333333333333333333333333333333333333333333333333333333333333333333333333333333333333333333333333333333333333333333333333333333333333333333333333333333333333333333333333333333333333333333333333333333333333333333333333333333333333333333333333333333333333333333333333333333333333333333333333333333333333333333333333333333333333333333333333333333333333333333333333333333333333333333333333333333333333333333333333333333333333333333333333333333333333333333333333333333333333333333333333333333333333333333333333333333333333333333333333333333333333333333333333333333333333333333333333333333333333333333333333333333333333333333333333333333333333333333333333333333333333333333333333333333333333333333333333333333333333333333333333333333333333333333333333333333333333333333333333333333333333333333333333333333333333333333333333333333333333333333333333333333333333333333333333333333333333333333333333333333333333333333333333333333333333333333333333333333333333333333333333333333333333333333333333333333333333333333333333333333333333333333333333333333333333333333333333333333333333333333333333333333333333333333333333333333333333333333333333333333333333333333333333333333333333333333333333333333333333333333333333333333333333333333333333333333333333333333333333333333333333333333333333333333333333333333333333333333333333333333333333333333333333333333333333333333333333333333333333333333333333333333333333333333333333333333333333333333333333333333333333333333333333333333333333333333333333333333333333333333333333333333333333333333333333333333333333333333333333333333333333333333333333333333333333333333333333333333333333333333333333333333333333333333333333333333333333333333333333333333333333333333333333333333333333333333333333333333333333333333333333333333333333333333333333333333333333333333333333333333333333333333333333333333333333333333333333333333333333333333333333333333333333333333333333333333333333333333333333333333333333333333333333333333333333333333333333333333333333333333333333333333333333333333333333333333333333333333333333333333333333333333333333333333333333333333333333333333333333333333333333333333333333333333333333333333333333333333333333333333333333333333333333333333333333333333333333333333333333333333333333333333333333333333333333333333333333333333333333333333333333333333333333333333333333333333333333333333333333333333333333333333333333333333333333333333333333333333333333333333333333333333333333333333333333333333333333333333333333333333333333333333333333333333333333333333333333333333333333333333333333333333333333333333333333333333333333333333333333333333333333333333333333333333333333333333333333333333333333333333333333333333333333333333333333333333333333333333333333333333333333333333333333333333333333333333333333333333333333333333333333333333333333333333333333333333333333333333333333333333333333333333333333333333333333333333333333333333333333333333333333333333333333333333333333333333333333333333333333333333333333333333333333333333333333333333333333333333333333333333333333333333333333333333333333333333333333333333333333333333333333333333333333333333333333333333333333333333333333333333333333333333333333333333333333333333333333333333333333333333333333333333333333333333333333333333333333333333333333333333333333333333333333333333333333333333333333333333333333333333333333333333333333333333333333333333333333333333333333333333333333333333333333333333333333333333333333333333333333333333333333333333333333333333333333333333333333333333333333333333333333333333333333333333333333333333333333333333333333333333333333333333333333333333333333333333333333333333333333333333333333333333333333333333333333333333333333333333333333333333333333333333333333333333333333333333333333333333333333333333333333333333333333333333333333333333333333333333333333333333333333333333333333333333333333333333333333333333333333333333333333333333333333333333333333333333333333333333333333333333333333333333333333333333333333333333333333333333333333333333333333333333333333333333333333333333333333333333333333333333333333333333333333333333333333333333333333333333333333333333333333333333333333333333333333333333333333333333333333333333333333333333333333333333333333333333333333333333333333333333333333333333333333333333333333333333333333333333333333333333333333333333333333333333333333333333333333333333333333333333333333333333333333333333333333333333333333333333333333333333333333333333333333333333333333333333333333333333333333333333333333333333333333333333333333333333333333333333333333333333333333333333333333333333333333333333333333333333333333333333333333333333333333333333333333333333333333333333333333333333333333333333333333333333333333333333333333333333333333333333333333333333333333333333333333333333333333333333333333333333333333333333333333333333333333333333333333333333333333333333333333333333333333333333333333333333333333333333333333333333333333333333333333333333333333333333333333333333333333333333333333333333333333333333333333333333333333333333333333333333333333333 |\n",
            "Barang ID - 2: Jumlah Barang bukan angka\n",
            "PESANAN TIDAK SESUAI, Silahkan di cek kembali\n",
            "Barang yang dibeli: \n",
            "{'bakso': [5, 13000], 'soto': ['3', 8000]}\n"
          ]
        }
      ]
    },
    {
      "cell_type": "markdown",
      "source": [
        "## reset_transaction()"
      ],
      "metadata": {
        "id": "HzngDHm6xbgA"
      }
    },
    {
      "cell_type": "code",
      "source": [
        "# inisialsisasi instance transaksi\n",
        "transaksi_6 = Transaction()\n",
        "\n",
        "# menambah item\n",
        "transaksi_6.add_items(['bakso', 5, 13_000])\n",
        "transaksi_6.add_items(['soto', 3, 8_000])\n",
        "\n",
        "# membuat output sesuai test case\n",
        "# {'nama_item': [jumlah, harga]}\n",
        "transaksi_6.test_case_output(transaksi_6.keranjang)\n",
        "\n",
        "# reset transaksi\n",
        "transaksi_6.reset_transaction()\n",
        "\n",
        "# check order\n",
        "transaksi_6.check_order()"
      ],
      "metadata": {
        "colab": {
          "base_uri": "https://localhost:8080/"
        },
        "id": "-u6LdaXNxr2H",
        "outputId": "4aab6724-f373-4a1f-8095-4728f43e2751"
      },
      "execution_count": null,
      "outputs": [
        {
          "output_type": "stream",
          "name": "stdout",
          "text": [
            "|   No. | Nama Barang   |   Jumlah Barang |   Harga Satuan |   Jumlah Harga |\n",
            "|-------|---------------|-----------------|----------------|----------------|\n",
            "|     1 | bakso         |               5 |          13000 |          65000 |\n",
            "\n",
            "Total harga yang harus dibayar adalah Rp.65,000\n",
            "Barang yang dibeli: \n",
            "{'bakso': [5, 13000]}\n",
            "|   No. | Nama Barang   |   Jumlah Barang |   Harga Satuan |   Jumlah Harga |\n",
            "|-------|---------------|-----------------|----------------|----------------|\n",
            "|     1 | bakso         |               5 |          13000 |          65000 |\n",
            "|     2 | soto          |               3 |           8000 |          24000 |\n",
            "\n",
            "Total harga yang harus dibayar adalah Rp.89,000\n",
            "Barang yang dibeli: \n",
            "{'bakso': [5, 13000], 'soto': [3, 8000]}\n",
            "Barang yang dibeli: \n",
            "{'bakso': [5, 13000], 'soto': [3, 8000]}\n",
            "keranjang telah dikosongkan\n",
            "| No.   | Nama Barang   | Jumlah Barang   | Harga Satuan   | Jumlah Harga   |\n",
            "|-------|---------------|-----------------|----------------|----------------|\n",
            "\n",
            "Total harga yang harus dibayar adalah Rp.0\n"
          ]
        }
      ]
    },
    {
      "cell_type": "markdown",
      "source": [
        "## total_price()"
      ],
      "metadata": {
        "id": "oZvAnXlzxpDP"
      }
    },
    {
      "cell_type": "code",
      "source": [
        "# inisialsisasi instance transaksi\n",
        "transaksi_7 = Transaction()\n",
        "\n",
        "# menambah item\n",
        "transaksi_7.add_items(['bakso', 5, 13_000])\n",
        "transaksi_7.add_items(['soto', 3, 8_000])\n",
        "\n",
        "# membuat output sesuai test case\n",
        "# {'nama_item': [jumlah, harga]}\n",
        "transaksi_7.test_case_output(transaksi_7.keranjang)\n",
        "\n",
        "# hitung total belanja\n",
        "transaksi_7.total_price()"
      ],
      "metadata": {
        "colab": {
          "base_uri": "https://localhost:8080/"
        },
        "id": "UJd_FfK9xoVZ",
        "outputId": "2010b99e-55a2-4dbf-ad94-d3b4e3fb3be4"
      },
      "execution_count": null,
      "outputs": [
        {
          "output_type": "stream",
          "name": "stdout",
          "text": [
            "|   No. | Nama Barang   |   Jumlah Barang |   Harga Satuan |   Jumlah Harga |\n",
            "|-------|---------------|-----------------|----------------|----------------|\n",
            "|     1 | bakso         |               5 |          13000 |          65000 |\n",
            "\n",
            "Total harga yang harus dibayar adalah Rp.65,000\n",
            "Barang yang dibeli: \n",
            "{'bakso': [5, 13000]}\n",
            "|   No. | Nama Barang   |   Jumlah Barang |   Harga Satuan |   Jumlah Harga |\n",
            "|-------|---------------|-----------------|----------------|----------------|\n",
            "|     1 | bakso         |               5 |          13000 |          65000 |\n",
            "|     2 | soto          |               3 |           8000 |          24000 |\n",
            "\n",
            "Total harga yang harus dibayar adalah Rp.89,000\n",
            "Barang yang dibeli: \n",
            "{'bakso': [5, 13000], 'soto': [3, 8000]}\n",
            "Barang yang dibeli: \n",
            "{'bakso': [5, 13000], 'soto': [3, 8000]}\n",
            "\n",
            "Total harga yang harus dibayar adalah Rp.89,000\n"
          ]
        }
      ]
    },
    {
      "cell_type": "markdown",
      "source": [
        "# Main"
      ],
      "metadata": {
        "id": "uEfWUUnhf9oj"
      }
    },
    {
      "cell_type": "code",
      "source": [
        "transaksi = Transaction()\n",
        "transaksi.menu()"
      ],
      "metadata": {
        "colab": {
          "base_uri": "https://localhost:8080/"
        },
        "id": "PeoHkN3jbgE6",
        "outputId": "b819b297-098b-4888-cb51-0530198a9a45"
      },
      "execution_count": null,
      "outputs": [
        {
          "output_type": "stream",
          "name": "stdout",
          "text": [
            "| No.   | Nama Barang   | Jumlah Barang   | Harga Satuan   | Jumlah Harga   |\n",
            "|-------|---------------|-----------------|----------------|----------------|\n",
            "\n",
            "Total harga yang harus dibayar adalah Rp.0\n",
            "\n",
            "\n",
            "Menu Utama\n",
            "|   No. | Opsi               |\n",
            "|-------|--------------------|\n",
            "|     0 | Check Keranjang    |\n",
            "|     1 | Tambah Item        |\n",
            "|     2 | Update Nama Item   |\n",
            "|     3 | Update Jumlah Item |\n",
            "|     4 | Update Harga Item  |\n",
            "|     5 | Hapus Item         |\n",
            "|     6 | Bayar dan Checkout |\n",
            "|     7 | Batal Belanja      |\n",
            "\n",
            "Pilih opsi: 7\n",
            "anda yakin ingin Batal Beli? (y=ya, t=tidak): y\n",
            "keranjang telah dikosongkan\n"
          ]
        }
      ]
    }
  ]
}